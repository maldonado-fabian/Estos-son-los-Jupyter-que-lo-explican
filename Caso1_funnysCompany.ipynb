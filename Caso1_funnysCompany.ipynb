{
  "cells": [
    {
      "cell_type": "markdown",
      "metadata": {
        "id": "6xQ2VIqqHfJP"
      },
      "source": [
        "# Caso Funnys Company\n",
        "intregrantes:\n",
        "\n",
        "\n",
        "*   Elemento de la lista\n",
        "*   Elemento de la lista\n",
        "*   Elemento de la lista\n",
        "*   Elemento de la lista\n",
        "\n",
        "Link video:\n"
      ]
    },
    {
      "cell_type": "markdown",
      "metadata": {
        "id": "TaNfXVGGH770"
      },
      "source": [
        "# Introducción\n",
        "\n",
        "Contextualización de la empresa de funnys company.\n",
        "\n",
        "Problema a resolver\n",
        "\n",
        "Alternativas de solución y como proponemos resolver el problema."
      ]
    },
    {
      "cell_type": "markdown",
      "metadata": {
        "id": "JK9V6sHSH40Y"
      },
      "source": [
        "# Metodología\n",
        "\n"
      ]
    },
    {
      "cell_type": "code",
      "execution_count": null,
      "metadata": {
        "colab": {
          "base_uri": "https://localhost:8080/"
        },
        "id": "VAGoZiJ5KS2B",
        "outputId": "596d596c-309e-4498-8b70-4e641109e3b9"
      },
      "outputs": [
        {
          "name": "stdout",
          "output_type": "stream",
          "text": [
            "Collecting pulp\n",
            "  Downloading pulp-3.2.2-py3-none-any.whl.metadata (6.9 kB)\n",
            "Downloading pulp-3.2.2-py3-none-any.whl (16.4 MB)\n",
            "   ━━━━━━━━━━━━━━━━━━━━━━━━━━━━━━━━━━━━━━━━ 16.4/16.4 MB 81.7 MB/s eta 0:00:00\n",
            "Installing collected packages: pulp\n",
            "Successfully installed pulp-3.2.2\n",
            "Instalando pulp...\n",
            "Instalado: pulp\n",
            "Versión PuLP: 3.0.2\n",
            "Solvers disponibles: ['PULP_CBC_CMD', 'HiGHS']\n"
          ]
        }
      ],
      "source": [
        "# Instalar PuLP:\n",
        "%%bash\n",
        "python - << 'PY'\n",
        "import importlib, sys\n",
        "def ensure(module):\n",
        "    try:\n",
        "        importlib.import_module(module)\n",
        "        print(f\"OK: {module} ya está instalado\")\n",
        "    except ImportError:\n",
        "        import subprocess\n",
        "        print(f\"Instalando {module}...\")\n",
        "        subprocess.check_call([sys.executable, '-m', 'pip', 'install', module])\n",
        "        print(f\"Instalado: {module}\")\n",
        "for m in [\"pulp\"]:\n",
        "    ensure(m)\n",
        "import pulp\n",
        "print(\"Versión PuLP:\", pulp.__version__)\n",
        "print(\"Solvers disponibles:\", pulp.listSolvers(onlyAvailable=True))\n",
        "PY"
      ]
    },
    {
      "cell_type": "markdown",
      "metadata": {
        "id": "qbgcV_nWItez"
      },
      "source": [
        "$1)$ Recopilación y representación de conjuntos\n"
      ]
    },
    {
      "cell_type": "code",
      "execution_count": null,
      "metadata": {
        "id": "br_vY5wwKnJH"
      },
      "outputs": [],
      "source": []
    },
    {
      "cell_type": "markdown",
      "metadata": {
        "id": "I-ftaJ_vJOS5"
      },
      "source": [
        "$2)$ Definición de parámetros:"
      ]
    },
    {
      "cell_type": "markdown",
      "metadata": {
        "id": "z_sEb61CJVee"
      },
      "source": [
        "$3)$ Definir Variables de decisión:\n"
      ]
    },
    {
      "cell_type": "markdown",
      "metadata": {
        "id": "iayfYNS5JcZj"
      },
      "source": [
        "$4)$ Definir función objetivo:\n"
      ]
    },
    {
      "cell_type": "markdown",
      "metadata": {
        "id": "4pEEVfopJmeD"
      },
      "source": [
        "$5)$ Definir restricciones entre parámetros, conjuntos y variables de decisión:"
      ]
    },
    {
      "cell_type": "markdown",
      "metadata": {
        "id": "fV0bmhQfJ0v7"
      },
      "source": [
        "$6)$ Definir los medios de prueba mediante los resultados de optimización vs supuestos:"
      ]
    },
    {
      "cell_type": "code",
      "execution_count": null,
      "metadata": {
        "id": "lt1SMALqHDDK"
      },
      "outputs": [],
      "source": []
    },
    {
      "cell_type": "markdown",
      "metadata": {
        "id": "S-jk0wrfKDvB"
      },
      "source": [
        "# Supuestos realizados al momento de realizar el modelamiento"
      ]
    },
    {
      "cell_type": "markdown",
      "metadata": {
        "id": "VJBhoDBGKOQl"
      },
      "source": []
    },
    {
      "cell_type": "code",
      "execution_count": null,
      "metadata": {
        "id": "LoJzlVQuKOqt"
      },
      "outputs": [],
      "source": []
    },
    {
      "cell_type": "markdown",
      "metadata": {
        "id": "rR5v8a8cKKQm"
      },
      "source": [
        "# Preguntas"
      ]
    }
  ],
  "metadata": {
    "colab": {
      "provenance": []
    },
    "kernelspec": {
      "display_name": "Python 3",
      "name": "python3"
    },
    "language_info": {
      "name": "python"
    }
  },
  "nbformat": 4,
  "nbformat_minor": 0
}
